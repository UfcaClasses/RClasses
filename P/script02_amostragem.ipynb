{
 "cells": [
  {
   "cell_type": "code",
   "execution_count": 1,
   "metadata": {},
   "outputs": [],
   "source": [
    "# referência: https://pandas.pydata.org/docs/reference/api/pandas.DataFrame.sample.html\n",
    "import pandas as pd\n",
    "# amostragem aleatoria simples - AASimples\n",
    "def getSimpleRandomSample(dataFrame, sampleSize):\n",
    "    # N = len(dataFrame) #tamanho da população\n",
    "    # n = sampleSize # tamanho da amostra\n",
    "    # amostra aleatória de índices\n",
    "    # sampleIndexes = sample(x = 1:N, size = n, replace = FALSE)\n",
    "    # separando a amostra aleatória correspondente aos índices sorteados\n",
    "    #sampleData = dataFrame[sampleIndexes, ]\n",
    "    sampleData = dataFrame.sample(n=sampleSize, replace=False)\n",
    "    return (sampleData)"
   ]
  },
  {
   "cell_type": "code",
   "execution_count": 7,
   "metadata": {},
   "outputs": [
    {
     "data": {
      "text/html": [
       "<div>\n",
       "<style scoped>\n",
       "    .dataframe tbody tr th:only-of-type {\n",
       "        vertical-align: middle;\n",
       "    }\n",
       "\n",
       "    .dataframe tbody tr th {\n",
       "        vertical-align: top;\n",
       "    }\n",
       "\n",
       "    .dataframe thead th {\n",
       "        text-align: right;\n",
       "    }\n",
       "</style>\n",
       "<table border=\"1\" class=\"dataframe\">\n",
       "  <thead>\n",
       "    <tr style=\"text-align: right;\">\n",
       "      <th></th>\n",
       "      <th>Fornecedor</th>\n",
       "      <th>Degradacao</th>\n",
       "      <th>TempoFalha</th>\n",
       "      <th>nReincidenciaFalhas</th>\n",
       "    </tr>\n",
       "  </thead>\n",
       "  <tbody>\n",
       "    <tr>\n",
       "      <th>0</th>\n",
       "      <td>B</td>\n",
       "      <td>Alto</td>\n",
       "      <td>1.957318</td>\n",
       "      <td>2</td>\n",
       "    </tr>\n",
       "    <tr>\n",
       "      <th>1</th>\n",
       "      <td>B</td>\n",
       "      <td>Alto</td>\n",
       "      <td>0.364677</td>\n",
       "      <td>13</td>\n",
       "    </tr>\n",
       "    <tr>\n",
       "      <th>2</th>\n",
       "      <td>B</td>\n",
       "      <td>Medio</td>\n",
       "      <td>2.640282</td>\n",
       "      <td>1</td>\n",
       "    </tr>\n",
       "    <tr>\n",
       "      <th>3</th>\n",
       "      <td>B</td>\n",
       "      <td>Alto</td>\n",
       "      <td>1.187134</td>\n",
       "      <td>0</td>\n",
       "    </tr>\n",
       "    <tr>\n",
       "      <th>4</th>\n",
       "      <td>A</td>\n",
       "      <td>Baixo</td>\n",
       "      <td>18.337973</td>\n",
       "      <td>4</td>\n",
       "    </tr>\n",
       "    <tr>\n",
       "      <th>5</th>\n",
       "      <td>A</td>\n",
       "      <td>Baixo</td>\n",
       "      <td>12.536926</td>\n",
       "      <td>21</td>\n",
       "    </tr>\n",
       "    <tr>\n",
       "      <th>6</th>\n",
       "      <td>A</td>\n",
       "      <td>Baixo</td>\n",
       "      <td>14.411633</td>\n",
       "      <td>22</td>\n",
       "    </tr>\n",
       "    <tr>\n",
       "      <th>7</th>\n",
       "      <td>A</td>\n",
       "      <td>Baixo</td>\n",
       "      <td>18.107021</td>\n",
       "      <td>60</td>\n",
       "    </tr>\n",
       "    <tr>\n",
       "      <th>8</th>\n",
       "      <td>A</td>\n",
       "      <td>Baixo</td>\n",
       "      <td>14.849921</td>\n",
       "      <td>20</td>\n",
       "    </tr>\n",
       "    <tr>\n",
       "      <th>9</th>\n",
       "      <td>A</td>\n",
       "      <td>Baixo</td>\n",
       "      <td>46.790521</td>\n",
       "      <td>13</td>\n",
       "    </tr>\n",
       "  </tbody>\n",
       "</table>\n",
       "</div>"
      ],
      "text/plain": [
       "  Fornecedor Degradacao  TempoFalha  nReincidenciaFalhas\n",
       "0          B       Alto    1.957318                    2\n",
       "1          B       Alto    0.364677                   13\n",
       "2          B      Medio    2.640282                    1\n",
       "3          B       Alto    1.187134                    0\n",
       "4          A      Baixo   18.337973                    4\n",
       "5          A      Baixo   12.536926                   21\n",
       "6          A      Baixo   14.411633                   22\n",
       "7          A      Baixo   18.107021                   60\n",
       "8          A      Baixo   14.849921                   20\n",
       "9          A      Baixo   46.790521                   13"
      ]
     },
     "execution_count": 7,
     "metadata": {},
     "output_type": "execute_result"
    }
   ],
   "source": [
    "#Exemplo: Conjunto de dados de manutenção\n",
    "#Ler o conjunto\n",
    "BD01 = pd.read_csv(\"../data/BD01.csv\", delimiter=\";\")#, dec = \",\", encoding=\"UTF-8\", sep=\";\", quote=\"\")\n",
    "#visualizar o conjunto\n",
    "BD01.head(10)"
   ]
  },
  {
   "cell_type": "code",
   "execution_count": 12,
   "metadata": {},
   "outputs": [
    {
     "name": "stdout",
     "output_type": "stream",
     "text": [
      "************** BD01.describe() **************\n",
      "       TempoFalha  nReincidenciaFalhas\n",
      "count  579.000000           579.000000\n",
      "mean    20.250725            18.792746\n",
      "std     22.011972            19.226708\n",
      "min      0.036110             0.000000\n",
      "25%      2.825574             3.000000\n",
      "50%     14.318828            14.000000\n",
      "75%     30.370120            28.000000\n",
      "max    121.861409           125.000000\n",
      "************** aaSimples_data.describe() **************\n",
      "       TempoFalha  nReincidenciaFalhas\n",
      "count    5.000000             5.000000\n",
      "mean    15.729192            18.600000\n",
      "std     19.109331            22.165288\n",
      "min      1.679098             1.000000\n",
      "25%      1.916428             1.000000\n",
      "50%     10.968573            10.000000\n",
      "75%     15.952743            28.000000\n",
      "max     48.129117            53.000000\n"
     ]
    }
   ],
   "source": [
    "# amostragem aleatoria simples - AASimples\n",
    "n=5\n",
    "aaSimples_data = getSimpleRandomSample(dataFrame = BD01, sampleSize = n)\n",
    "aaSimples_data.head(n)\n",
    "print(\"************** BD01.describe() **************\")\n",
    "print(BD01.describe())\n",
    "print(\"************** aaSimples_data.describe() **************\")\n",
    "print(aaSimples_data.describe())"
   ]
  },
  {
   "cell_type": "code",
   "execution_count": 109,
   "metadata": {},
   "outputs": [
    {
     "name": "stdout",
     "output_type": "stream",
     "text": [
      "58\n"
     ]
    },
    {
     "data": {
      "text/plain": [
       "[0, 58, 116, 174, 232, 290, 348, 406, 464, 522]"
      ]
     },
     "execution_count": 109,
     "metadata": {},
     "output_type": "execute_result"
    }
   ],
   "source": [
    "N = len(dataFrame)\n",
    "n = 10\n",
    "ti = 0\n",
    "tf = (N-1)  # mínimo e máximo do intervalo de chaves\n",
    "d = round((tf - ti + 1)/n)  # distância entre índices subsequentes\n",
    "print(d)\n",
    "list(range(0, N, d))\n"
   ]
  },
  {
   "cell_type": "code",
   "execution_count": 108,
   "metadata": {},
   "outputs": [
    {
     "name": "stdout",
     "output_type": "stream",
     "text": [
      "    Fornecedor Degradacao  TempoFalha  nReincidenciaFalhas\n",
      "17           A      Baixo   18.465695                   20\n",
      "75           A      Baixo   35.415374                    3\n",
      "133          A      Baixo   10.223242                   17\n",
      "191          A      Baixo   59.892101                   22\n",
      "249          A      Baixo   86.736736                    2\n",
      "307          A      Baixo   63.090326                   40\n",
      "365          B       Alto    0.657351                   39\n",
      "423          B       Alto    1.001658                   29\n",
      "481          A      Baixo   48.129117                   53\n",
      "539          A      Baixo   22.144598                    5\n"
     ]
    }
   ],
   "source": [
    "i0 = np.random.default_rng().integers(low=0, high=d)\n",
    "# sorteando índices a partir de i0, distanciados por d\n",
    "sampleIndexes = i0 + list(range(0, N, d))\n",
    "# contornando o problema de índice maior que o máximo possível\n",
    "#sampleIndexes[sampleIndexes > tf] = sampleIndexes[sampleIndexes > tf] - tf + ti - 1\n",
    "# separando a amostra aleatória correspondente aos índices sorteados\n",
    "sampleData = dataFrame.loc[sampleIndexes, ]\n",
    "print(sampleData)\n"
   ]
  },
  {
   "cell_type": "code",
   "execution_count": 112,
   "metadata": {},
   "outputs": [
    {
     "data": {
      "text/plain": [
       "191"
      ]
     },
     "execution_count": 112,
     "metadata": {},
     "output_type": "execute_result"
    }
   ],
   "source": [
    "17+58+58+58"
   ]
  },
  {
   "cell_type": "code",
   "execution_count": 115,
   "metadata": {},
   "outputs": [],
   "source": [
    "# amostragem aleatoria sistemática - AASistemática\n",
    "import numpy as np\n",
    "\n",
    "\n",
    "def getSystematicRandomSample(dataFrame, sampleSize):\n",
    "    N = len(dataFrame)  # tamanho da população\n",
    "    n = sampleSize  # tamanho da amostra\n",
    "    ti = 0\n",
    "    tf = (N-1)  # mínimo e máximo do intervalo de chaves\n",
    "    d = round((tf - ti + 1)/n)  # distância entre índices subsequentes\n",
    "    # primeiro índice sorteado aleatoriamente (como na AASimples)\n",
    "    i0 = np.random.default_rng().integers(low=0, high=d)\n",
    "    # sorteando índices a partir de i0, distanciados por d\n",
    "    sampleIndexes = i0 + list(range(0, N, d))\n",
    "    # contornando o problema de índice maior que o máximo possível\n",
    "    #sampleIndexes[sampleIndexes > tf] = sampleIndexes[sampleIndexes > tf] - tf + ti - 1\n",
    "    # separando a amostra aleatória correspondente aos índices sorteados\n",
    "    sampleData = dataFrame.loc[sampleIndexes, ]\n",
    "    print(\"*********** sampleData ***********\")\n",
    "    print(sampleData)\n",
    "    return (sampleData)\n"
   ]
  },
  {
   "cell_type": "code",
   "execution_count": 116,
   "metadata": {},
   "outputs": [
    {
     "name": "stdout",
     "output_type": "stream",
     "text": [
      "*********** sampleData ***********\n",
      "    Fornecedor Degradacao  TempoFalha  nReincidenciaFalhas\n",
      "13           B       Alto    0.841063                    1\n",
      "71           A      Baixo   19.519646                   29\n",
      "129          B      Medio    4.166478                   10\n",
      "187          B      Medio    2.885459                   13\n",
      "245          A      Baixo   31.436330                   22\n",
      "303          A      Baixo   16.443393                   22\n",
      "361          B      Medio    3.978508                   39\n",
      "419          A      Baixo   10.271400                   16\n",
      "477          A      Baixo  115.374664                    3\n",
      "535          B      Medio    3.865964                    3\n",
      "************** BD01.describe() **************\n",
      "       TempoFalha  nReincidenciaFalhas\n",
      "count  579.000000           579.000000\n",
      "mean    20.250725            18.792746\n",
      "std     22.011972            19.226708\n",
      "min      0.036110             0.000000\n",
      "25%      2.825574             3.000000\n",
      "50%     14.318828            14.000000\n",
      "75%     30.370120            28.000000\n",
      "max    121.861409           125.000000\n",
      "************** aaSistematica_data.describe() **************\n",
      "       TempoFalha  nReincidenciaFalhas\n",
      "count   10.000000            10.000000\n",
      "mean    20.878290            15.800000\n",
      "std     34.568123            12.372011\n",
      "min      0.841063             1.000000\n",
      "25%      3.894100             4.750000\n",
      "50%      7.218939            14.500000\n",
      "75%     18.750583            22.000000\n",
      "max    115.374664            39.000000\n"
     ]
    }
   ],
   "source": [
    "n=10\n",
    "aaSistematica_data = getSystematicRandomSample(dataFrame = BD01, sampleSize = n)\n",
    "aaSistematica_data.head(n)\n",
    "print(\"************** BD01.describe() **************\")\n",
    "print(BD01.describe())\n",
    "print(\"************** aaSistematica_data.describe() **************\")\n",
    "print(aaSistematica_data.describe())"
   ]
  },
  {
   "cell_type": "code",
   "execution_count": 63,
   "metadata": {},
   "outputs": [],
   "source": [
    "# amostragem aleatoria estratificada proporcional - AAEstrProp\n",
    "def getProportionalStratifiedRandomSample(dataFrame, sampleSize, stratumVariable):\n",
    "  # distribuição da variável de estrato na população\n",
    "  n = sampleSize\n",
    "  probDist = dataFrame[stratumVariable].value_counts(normalize=True) # View(probDist)\n",
    "  print('*************** probDist ***************')\n",
    "  print(probDist)\n",
    "  # ns = round(n*probDist.values);  # View(ns)\n",
    "  stratums = probDist.index.to_list()\n",
    "  nStratums = len(stratums)\n",
    "  sampleData = pd.DataFrame()\n",
    "  for i in range(nStratums):\n",
    "    stratum_i = stratums[i]\n",
    "    # View(dataFrame_i, title = stratum_i)\n",
    "    dataFrame_i = dataFrame[dataFrame[stratumVariable] == stratum_i]\n",
    "    N_i = len(dataFrame_i)  # tamanho da iª população\n",
    "    n_i = round(n*probDist.values[i])  # tamanho da iª amostra\n",
    "    # View(sampleData_i, title = paste(\"amostra_\", stratum_i) )\n",
    "    sampleData_i = getSimpleRandomSample(dataFrame=dataFrame_i, sampleSize=n_i)\n",
    "    sampleData = pd.concat([sampleData, sampleData_i], axis = 0)\n",
    "  print('********** sample **********')\n",
    "  print(sampleData)\n",
    "  return (sampleData)"
   ]
  },
  {
   "cell_type": "code",
   "execution_count": 64,
   "metadata": {},
   "outputs": [
    {
     "name": "stdout",
     "output_type": "stream",
     "text": [
      "*************** probDist ***************\n",
      "Baixo    0.609672\n",
      "Alto     0.195164\n",
      "Medio    0.195164\n",
      "Name: Degradacao, dtype: float64\n",
      "********** sample **********\n",
      "    Fornecedor Degradacao  TempoFalha  nReincidenciaFalhas\n",
      "157          A      Baixo   10.414994                   19\n",
      "224          A      Baixo   30.581384                   12\n",
      "576          A      Baixo   34.086269                   22\n",
      "442          A      Baixo   15.707652                   33\n",
      "369          A      Baixo   11.221291                    3\n",
      "444          A      Baixo   13.321425                   32\n",
      "220          B       Alto    1.878851                   26\n",
      "120          B       Alto    0.212806                   14\n",
      "553          B      Medio    3.658820                    5\n",
      "445          B      Medio    5.049006                   68\n",
      "************** BD01.describe() **************\n",
      "       TempoFalha  nReincidenciaFalhas\n",
      "count  579.000000           579.000000\n",
      "mean    20.250725            18.792746\n",
      "std     22.011972            19.226708\n",
      "min      0.036110             0.000000\n",
      "25%      2.825574             3.000000\n",
      "50%     14.318828            14.000000\n",
      "75%     30.370120            28.000000\n",
      "max    121.861409           125.000000\n",
      "************** aaSimples_data.describe() **************\n",
      "       TempoFalha  nReincidenciaFalhas\n",
      "count   10.000000            10.000000\n",
      "mean    12.613250            23.400000\n",
      "std     11.581542            18.727283\n",
      "min      0.212806             3.000000\n",
      "25%      4.006367            12.500000\n",
      "50%     10.818142            20.500000\n",
      "75%     15.111095            30.500000\n",
      "max     34.086269            68.000000\n"
     ]
    }
   ],
   "source": [
    "## amostragem aleatoria estratificada proporcional - AAEstrProp\n",
    "n=10\n",
    "aaProp_data = getProportionalStratifiedRandomSample(dataFrame=BD01, sampleSize=n, stratumVariable=\"Degradacao\")\n",
    "aaProp_data.head(n)\n",
    "print(\"************** BD01.describe() **************\")\n",
    "print(BD01.describe())\n",
    "print(\"************** aaSimples_data.describe() **************\")\n",
    "print(aaProp_data.describe())"
   ]
  },
  {
   "cell_type": "code",
   "execution_count": 91,
   "metadata": {},
   "outputs": [],
   "source": [
    "#amostragem aleatória simples por mapeamento - AASM\n",
    "#from numpy.random.Generator import uniform\n",
    "import numpy as np\n",
    "def getMapingSimpleRandomSample (bounds, sampleSize):\n",
    "  bounds = pd.DataFrame(bounds)\n",
    "  dimensions = bounds.columns\n",
    "  nDimensions = len(dimensions)\n",
    "  # N = nrow(dataFrame) #tamanho da população\n",
    "  n = sampleSize # tamanho da amostra\n",
    "  #amostra aleatória de coordenadas\n",
    "  sampleCoordinates = pd.DataFrame()\n",
    "  for dim_i in dimensions:#i=1\n",
    "    #amostra aleatória simples para a dimensão dim_i\n",
    "    rs_i = np.random.default_rng().uniform(size = n, low = bounds[dim_i][\"min\"], high = bounds[dim_i][\"max\"])\n",
    "    sampleCoordinates[dim_i] = rs_i\n",
    "  print(\"*********** sampleCoordinates ***********\")\n",
    "  print(sampleCoordinates)\n",
    "  return(sampleCoordinates)"
   ]
  },
  {
   "cell_type": "code",
   "execution_count": 94,
   "metadata": {},
   "outputs": [
    {
     "name": "stdout",
     "output_type": "stream",
     "text": [
      "*********** sampleCoordinates ***********\n",
      "        lat       long      tempo\n",
      "0 -8.244642  19.219921  12.122827\n",
      "1 -6.511800  16.541521  17.473551\n",
      "2 -5.535131  15.219200  10.069007\n",
      "3 -3.252021  15.761761  11.666641\n",
      "4 -7.463571  17.975125  14.118664\n"
     ]
    },
    {
     "data": {
      "text/html": [
       "<div>\n",
       "<style scoped>\n",
       "    .dataframe tbody tr th:only-of-type {\n",
       "        vertical-align: middle;\n",
       "    }\n",
       "\n",
       "    .dataframe tbody tr th {\n",
       "        vertical-align: top;\n",
       "    }\n",
       "\n",
       "    .dataframe thead th {\n",
       "        text-align: right;\n",
       "    }\n",
       "</style>\n",
       "<table border=\"1\" class=\"dataframe\">\n",
       "  <thead>\n",
       "    <tr style=\"text-align: right;\">\n",
       "      <th></th>\n",
       "      <th>lat</th>\n",
       "      <th>long</th>\n",
       "      <th>tempo</th>\n",
       "    </tr>\n",
       "  </thead>\n",
       "  <tbody>\n",
       "    <tr>\n",
       "      <th>0</th>\n",
       "      <td>-8.244642</td>\n",
       "      <td>19.219921</td>\n",
       "      <td>12.122827</td>\n",
       "    </tr>\n",
       "    <tr>\n",
       "      <th>1</th>\n",
       "      <td>-6.511800</td>\n",
       "      <td>16.541521</td>\n",
       "      <td>17.473551</td>\n",
       "    </tr>\n",
       "    <tr>\n",
       "      <th>2</th>\n",
       "      <td>-5.535131</td>\n",
       "      <td>15.219200</td>\n",
       "      <td>10.069007</td>\n",
       "    </tr>\n",
       "    <tr>\n",
       "      <th>3</th>\n",
       "      <td>-3.252021</td>\n",
       "      <td>15.761761</td>\n",
       "      <td>11.666641</td>\n",
       "    </tr>\n",
       "    <tr>\n",
       "      <th>4</th>\n",
       "      <td>-7.463571</td>\n",
       "      <td>17.975125</td>\n",
       "      <td>14.118664</td>\n",
       "    </tr>\n",
       "  </tbody>\n",
       "</table>\n",
       "</div>"
      ],
      "text/plain": [
       "        lat       long      tempo\n",
       "0 -8.244642  19.219921  12.122827\n",
       "1 -6.511800  16.541521  17.473551\n",
       "2 -5.535131  15.219200  10.069007\n",
       "3 -3.252021  15.761761  11.666641\n",
       "4 -7.463571  17.975125  14.118664"
      ]
     },
     "execution_count": 94,
     "metadata": {},
     "output_type": "execute_result"
    }
   ],
   "source": [
    "# amostragem aleatória simples por mapeamento - AASM\n",
    "bounds = {'lat': {'min': -10, 'max': -1},\n",
    "          'long': {'min': 15, 'max': 20}, \n",
    "          'tempo': {'min': 7, 'max': 22}}\n",
    "aasm_data = getMapingSimpleRandomSample(bounds = bounds, sampleSize = 5)\n",
    "n=10\n",
    "aasm_data.head(n)\n",
    "# print(\"************** BD01.describe() **************\")\n",
    "# print(BD01.describe())\n",
    "# print(\"************** aaSimples_data.describe() **************\")\n",
    "# print(aasm_data.describe())"
   ]
  },
  {
   "cell_type": "code",
   "execution_count": 67,
   "metadata": {},
   "outputs": [
    {
     "data": {
      "text/plain": [
       "-10"
      ]
     },
     "execution_count": 67,
     "metadata": {},
     "output_type": "execute_result"
    }
   ],
   "source": [
    "bounds['lat']['min']"
   ]
  },
  {
   "cell_type": "code",
   "execution_count": null,
   "metadata": {},
   "outputs": [],
   "source": []
  },
  {
   "cell_type": "code",
   "execution_count": null,
   "metadata": {},
   "outputs": [],
   "source": [
    "\n",
    "# aaSistematica = getMapingBasedSimpleRandomSample(dataFrame = BD01, sampleSize = 5)\n",
    "# View(aaSistematica)\n",
    "#\n",
    "# aaEstrProp = getProportionalStratifiedRandomSample(dataFrame = BD01\n",
    "#                                                    , sampleSize = 5\n",
    "#                                                    , stratumVariable = \"Fornecedor\")\n",
    "# View(aaEstrProp)\n",
    "\n",
    "#Exemplo: Mapeamento\n",
    "bounds = list(lat = list(min = -10, max = -1)\n",
    "              , long = list(min = 15, max = 20)\n",
    "              , tempo = list(min = 7, max = 22))\n",
    "aasm_data = getMapingSimpleRandomSample(bounds = bounds, sampleSize = 5)\n",
    "View(aasm_data)\n",
    "\n",
    "\n",
    "# descritiva(aaEstrProp)\n",
    "\n",
    "\n",
    "#apenas paara exemplificar algumas coisas...\n",
    "rascunho = function(){\n",
    "  N = 1000\n",
    "  n = 10\n",
    "  indexes = sample(x = seq(from=1, to=N, by=1), size = n, replace = FALSE)\n",
    "\n",
    "#pergunta leoncio\n",
    "  a = c(1:10)\n",
    "  b = c(2:11)\n",
    "  m_c = cbind(col_a = a, col_b = b); View(m_c) #acumula colunas\n",
    "  m_r = rbind(rowl_a = a, row_b = b); View(m_r)#acumula linhas\n",
    "}\n"
   ]
  }
 ],
 "metadata": {
  "kernelspec": {
   "display_name": "Python 3.10.6 64-bit",
   "language": "python",
   "name": "python3"
  },
  "language_info": {
   "codemirror_mode": {
    "name": "ipython",
    "version": 3
   },
   "file_extension": ".py",
   "mimetype": "text/x-python",
   "name": "python",
   "nbconvert_exporter": "python",
   "pygments_lexer": "ipython3",
   "version": "3.10.6"
  },
  "orig_nbformat": 4,
  "vscode": {
   "interpreter": {
    "hash": "26de051ba29f2982a8de78e945f0abaf191376122a1563185a90213a26c5da77"
   }
  }
 },
 "nbformat": 4,
 "nbformat_minor": 2
}
